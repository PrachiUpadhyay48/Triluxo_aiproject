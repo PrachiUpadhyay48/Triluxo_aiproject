{
 "cells": [
  {
   "cell_type": "code",
   "execution_count": 1,
   "id": "6ddf8a0e-25f8-44a8-938b-74e4e116ac96",
   "metadata": {},
   "outputs": [
    {
     "name": "stdout",
     "output_type": "stream",
     "text": [
      "Requirement already satisfied: requests in c:\\users\\91931\\venv\\lib\\site-packages (2.31.0)\n",
      "Requirement already satisfied: beautifulsoup4 in c:\\users\\91931\\venv\\lib\\site-packages (4.12.2)\n",
      "Requirement already satisfied: charset-normalizer<4,>=2 in c:\\users\\91931\\venv\\lib\\site-packages (from requests) (3.2.0)\n",
      "Requirement already satisfied: idna<4,>=2.5 in c:\\users\\91931\\venv\\lib\\site-packages (from requests) (3.4)\n",
      "Requirement already satisfied: urllib3<3,>=1.21.1 in c:\\users\\91931\\venv\\lib\\site-packages (from requests) (2.0.5)\n",
      "Requirement already satisfied: certifi>=2017.4.17 in c:\\users\\91931\\venv\\lib\\site-packages (from requests) (2023.7.22)\n",
      "Requirement already satisfied: soupsieve>1.2 in c:\\users\\91931\\venv\\lib\\site-packages (from beautifulsoup4) (2.5)\n"
     ]
    }
   ],
   "source": [
    "!pip install requests beautifulsoup4"
   ]
  },
  {
   "cell_type": "code",
   "execution_count": 21,
   "id": "9dbe8571-1fc2-4434-99d2-c225e9e16903",
   "metadata": {},
   "outputs": [
    {
     "name": "stdout",
     "output_type": "stream",
     "text": [
      "Titles: []\n",
      "Descriptions: []\n"
     ]
    }
   ],
   "source": [
    "import requests\n",
    "from bs4 import BeautifulSoup\n",
    "\n",
    "# Send a GET request to the URL\n",
    "url = \"https://brainlox.com/courses/category/technical\"\n",
    "response = requests.get(url)\n",
    "\n",
    "# Check if the request was successful\n",
    "if response.status_code == 200:\n",
    "    # Parse the HTML content using BeautifulSoup\n",
    "    soup = BeautifulSoup(response.content, 'html.parser')\n",
    "\n",
    "    # Initialize lists to store course details\n",
    "    titles = []\n",
    "    descriptions = []\n",
    "    urls = []\n",
    "\n",
    "    # Scrape course information\n",
    "    course_cards = soup.find_all('div', class_='course-card')\n",
    "    for card in course_cards:\n",
    "        title = card.find('div', class_='course-title').text.strip()\n",
    "        description = card.find('div', class_='course-description').text.strip()\n",
    "        url = card.find('a', class_='course-link')['href']\n",
    "        \n",
    "        # Append course details to the lists\n",
    "        titles.append(title)\n",
    "        descriptions.append(description)\n",
    "        urls.append(url)\n",
    "else:\n",
    "    print(\"Failed to fetch the page.\")\n",
    "\n",
    "# Preprocess the scraped data (you can define your preprocessing functions)\n",
    "# For simplicity, let's just print the first few titles and descriptions\n",
    "print(\"Titles:\", titles[:5])\n",
    "print(\"Descriptions:\", descriptions[:5])\n"
   ]
  },
  {
   "cell_type": "code",
   "execution_count": 28,
   "id": "542b3945-532a-4a65-b28c-2ce16d1cb43f",
   "metadata": {},
   "outputs": [
    {
     "name": "stderr",
     "output_type": "stream",
     "text": [
      "Some weights of BertForQuestionAnswering were not initialized from the model checkpoint at bert-base-uncased and are newly initialized: ['qa_outputs.bias', 'qa_outputs.weight']\n",
      "You should probably TRAIN this model on a down-stream task to be able to use it for predictions and inference.\n"
     ]
    },
    {
     "name": "stdout",
     "output_type": "stream",
     "text": [
      "Question: What is a machine learning course?\n",
      "Answer: \n"
     ]
    }
   ],
   "source": [
    "from transformers import BertTokenizer, BertForQuestionAnswering\n",
    "import torch\n",
    "\n",
    "# Load pre-trained BERT model and tokenizer\n",
    "model_name = 'bert-base-uncased'\n",
    "model = BertForQuestionAnswering.from_pretrained(model_name)\n",
    "tokenizer = BertTokenizer.from_pretrained(model_name)\n",
    "\n",
    "# Sample input question and context\n",
    "question = \"What is a machine learning course?\"\n",
    "context = \"A machine learning course covers various algorithms and techniques used in machine learning.\"\n",
    "\n",
    "# Tokenize the input\n",
    "inputs = tokenizer.encode_plus(question, context, return_tensors='pt')\n",
    "\n",
    "# Get the model's output\n",
    "output = model(**inputs)\n",
    "\n",
    "\n",
    "# Get the answer\n",
    "answer_start = torch.argmax(output.start_logits)\n",
    "answer_end = torch.argmax(output.end_logits)\n",
    "answer = tokenizer.convert_tokens_to_string(tokenizer.convert_ids_to_tokens(inputs['input_ids'][0][answer_start:answer_end+1]))\n",
    "\n",
    "print(\"Question:\", question)\n",
    "print(\"Answer:\", answer)"
   ]
  },
  {
   "cell_type": "code",
   "execution_count": 25,
   "id": "d4ea15e3-1b67-4b78-9674-cd8f01da8ed8",
   "metadata": {},
   "outputs": [
    {
     "data": {
      "application/vnd.jupyter.widget-view+json": {
       "model_id": "f7afbd65f4fa417fb46901767e73a9bb",
       "version_major": 2,
       "version_minor": 0
      },
      "text/plain": [
       "Downloading (…)lve/main/config.json:   0%|          | 0.00/443 [00:00<?, ?B/s]"
      ]
     },
     "metadata": {},
     "output_type": "display_data"
    },
    {
     "name": "stderr",
     "output_type": "stream",
     "text": [
      "C:\\Users\\91931\\venv\\Lib\\site-packages\\huggingface_hub\\file_download.py:137: UserWarning: `huggingface_hub` cache-system uses symlinks by default to efficiently store duplicated files but your machine does not support them in C:\\Users\\91931\\.cache\\huggingface\\hub. Caching files will still work but in a degraded version that might require more space on your disk. This warning can be disabled by setting the `HF_HUB_DISABLE_SYMLINKS_WARNING` environment variable. For more details, see https://huggingface.co/docs/huggingface_hub/how-to-cache#limitations.\n",
      "To support symlinks on Windows, you either need to activate Developer Mode or to run Python as an administrator. In order to see activate developer mode, see this article: https://docs.microsoft.com/en-us/windows/apps/get-started/enable-your-device-for-development\n",
      "  warnings.warn(message)\n"
     ]
    },
    {
     "data": {
      "application/vnd.jupyter.widget-view+json": {
       "model_id": "221defb905e24162a937f6f52568898b",
       "version_major": 2,
       "version_minor": 0
      },
      "text/plain": [
       "Downloading model.safetensors:   0%|          | 0.00/1.34G [00:00<?, ?B/s]"
      ]
     },
     "metadata": {},
     "output_type": "display_data"
    },
    {
     "name": "stderr",
     "output_type": "stream",
     "text": [
      "\n",
      "KeyboardInterrupt\n",
      "\n"
     ]
    }
   ],
   "source": [
    "from transformers import BertTokenizer, BertForQuestionAnswering, pipeline\n",
    "\n",
    "# Load the pre-trained model and tokenizer\n",
    "model_name = 'bert-large-uncased-whole-word-masking-finetuned-squad'  # A fine-tuned BERT model for question answering\n",
    "model = BertForQuestionAnswering.from_pretrained(model_name)\n",
    "tokenizer = BertTokenizer.from_pretrained(model_name)\n",
    "\n",
    "# Create a Question Answering pipeline\n",
    "nlp = pipeline('question-answering', model=model, tokenizer=tokenizer)\n",
    "\n",
    "# Sample input question and context\n",
    "question = \"What is a machine learning course?\"\n",
    "context = \"A machine learning course covers various algorithms and techniques used in machine learning.\"\n",
    "\n",
    "# Get the answer\n",
    "answer = nlp(question=question, context=context)\n",
    "\n",
    "print(\"Question:\", question)\n",
    "print(\"Answer:\", answer['answer'])\n"
   ]
  },
  {
   "cell_type": "code",
   "execution_count": 31,
   "id": "1be74554-27ae-452a-a885-cbc45b1a5e03",
   "metadata": {},
   "outputs": [
    {
     "name": "stdout",
     "output_type": "stream",
     "text": [
      "User: What courses are available for machine learning?\n",
      "Chatbot: \n",
      "==================================================\n",
      "User: Can you recommend a Python programming course?\n",
      "Chatbot: \n",
      "==================================================\n",
      "User: Tell me about data analysis courses.\n",
      "Chatbot: \n",
      "==================================================\n"
     ]
    }
   ],
   "source": [
    "import torch\n",
    "\n",
    "def get_course_recommendation(question, context, model, tokenizer):\n",
    "    # Tokenize the input\n",
    "    inputs = tokenizer.encode_plus(question, context, return_tensors='pt')\n",
    "\n",
    "    # Get the model's output\n",
    "    output = model(**inputs)\n",
    "\n",
    "    # Get the answer\n",
    "    answer_start = torch.argmax(output.start_logits)\n",
    "    answer_end = torch.argmax(output.end_logits)\n",
    "    answer = tokenizer.convert_tokens_to_string(tokenizer.convert_ids_to_tokens(inputs['input_ids'][0][answer_start:answer_end+1]))\n",
    "    \n",
    "    return answer\n",
    "\n",
    "# Sample context for course information\n",
    "sample_context = \"A machine learning course covers various algorithms and techniques used in machine learning.\"\n",
    "\n",
    "# Chatbot function\n",
    "def chatbot(user_input):\n",
    "    # Sample context for simplicity (you can replace this with actual course information)\n",
    "    context = sample_context\n",
    "    \n",
    "    # Get course recommendation based on user input\n",
    "    recommendation = get_course_recommendation(user_input, context, model, tokenizer)\n",
    "    return recommendation\n",
    "\n",
    "# Sample user queries\n",
    "sample_queries = [\n",
    "    \"What courses are available for machine learning?\",\n",
    "    \"Can you recommend a Python programming course?\",\n",
    "    \"Tell me about data analysis courses.\",\n",
    "]\n",
    "\n",
    "# Test the chatbot with sample queries\n",
    "for query in sample_queries:\n",
    "    print(\"User:\", query)\n",
    "    print(\"Chatbot:\", chatbot(query))\n",
    "    print(\"=\" * 50)\n"
   ]
  },
  {
   "cell_type": "code",
   "execution_count": 30,
   "id": "ff5431a4-5ce7-4107-b786-609ff70aa6ae",
   "metadata": {},
   "outputs": [
    {
     "name": "stdout",
     "output_type": "stream",
     "text": [
      "User: What courses are available for machine learning?\n",
      "Expected Response: A machine learning course covers various algorithms and techniques used in machine learning.\n",
      "Chatbot Response: \n",
      "==================================================\n",
      "User: Can you recommend a Python programming course?\n",
      "Expected Response: A Python programming course teaches Python programming concepts and applications.\n",
      "Chatbot Response: \n",
      "==================================================\n",
      "User: Tell me about data analysis courses.\n",
      "Expected Response: Data analysis courses cover data processing, analysis techniques, and tools like Python libraries.\n",
      "Chatbot Response: \n",
      "==================================================\n",
      "Chatbot Accuracy: 0.00%\n"
     ]
    }
   ],
   "source": [
    "# Expected responses for sample queries\n",
    "expected_responses = [\n",
    "    \"A machine learning course covers various algorithms and techniques used in machine learning.\",\n",
    "    \"A Python programming course teaches Python programming concepts and applications.\",\n",
    "    \"Data analysis courses cover data processing, analysis techniques, and tools like Python libraries.\",\n",
    "]\n",
    "\n",
    "# Test the chatbot and evaluate accuracy\n",
    "correct_count = 0\n",
    "total_queries = len(sample_queries)\n",
    "\n",
    "for i in range(total_queries):\n",
    "    user_query = sample_queries[i]\n",
    "    expected_response = expected_responses[i]\n",
    "    chatbot_response = chatbot(user_query)\n",
    "\n",
    "    print(\"User:\", user_query)\n",
    "    print(\"Expected Response:\", expected_response)\n",
    "    print(\"Chatbot Response:\", chatbot_response)\n",
    "\n",
    "    if chatbot_response == expected_response:\n",
    "        correct_count += 1\n",
    "    print(\"=\" * 50)\n",
    "\n",
    "accuracy = (correct_count / total_queries) * 100\n",
    "print(f\"Chatbot Accuracy: {accuracy:.2f}%\")"
   ]
  },
  {
   "cell_type": "code",
   "execution_count": null,
   "id": "459b3ccc-f7ae-4bf3-ac6e-e1252d6dd425",
   "metadata": {},
   "outputs": [],
   "source": []
  },
  {
   "cell_type": "code",
   "execution_count": null,
   "id": "35f2560c-bd23-4f1e-9859-0dd235ed80c2",
   "metadata": {},
   "outputs": [],
   "source": []
  },
  {
   "cell_type": "code",
   "execution_count": null,
   "id": "7ba7322c-19bb-4363-90a6-037b690e8de4",
   "metadata": {},
   "outputs": [],
   "source": []
  },
  {
   "cell_type": "code",
   "execution_count": null,
   "id": "e938bb22-8fa1-46cb-b1f2-6bd4989d5cf3",
   "metadata": {},
   "outputs": [],
   "source": []
  },
  {
   "cell_type": "code",
   "execution_count": null,
   "id": "e1fff891-29f0-4b55-ad76-01784f3481cd",
   "metadata": {},
   "outputs": [],
   "source": []
  },
  {
   "cell_type": "code",
   "execution_count": null,
   "id": "05f786c3-ebaf-432f-b94b-03a87a9a60ed",
   "metadata": {},
   "outputs": [],
   "source": []
  },
  {
   "cell_type": "code",
   "execution_count": null,
   "id": "d4658e5d-3cef-42d2-9ed8-fcf52fbd6445",
   "metadata": {},
   "outputs": [],
   "source": []
  },
  {
   "cell_type": "code",
   "execution_count": null,
   "id": "57f3e7dd-3f3b-4e0d-86b5-cb306f771612",
   "metadata": {},
   "outputs": [],
   "source": []
  },
  {
   "cell_type": "code",
   "execution_count": null,
   "id": "3f23f640-dcab-4ccc-8e75-dc8f2622a6c0",
   "metadata": {},
   "outputs": [],
   "source": []
  },
  {
   "cell_type": "code",
   "execution_count": null,
   "id": "55b6672a-7e8e-421c-baf9-a9ef17bbead5",
   "metadata": {},
   "outputs": [],
   "source": []
  },
  {
   "cell_type": "code",
   "execution_count": null,
   "id": "8619d95c-1616-4ee0-90a4-909a2d9e7022",
   "metadata": {},
   "outputs": [],
   "source": []
  },
  {
   "cell_type": "code",
   "execution_count": null,
   "id": "f80e5cca-a280-48a4-9431-3b0d778c919d",
   "metadata": {},
   "outputs": [],
   "source": []
  },
  {
   "cell_type": "code",
   "execution_count": null,
   "id": "281faa47-f8c6-4a8c-8903-652d2c84b4ce",
   "metadata": {},
   "outputs": [],
   "source": []
  },
  {
   "cell_type": "code",
   "execution_count": 2,
   "id": "2ddb8aa2-4d61-4540-8c05-6f61b0b5781d",
   "metadata": {},
   "outputs": [],
   "source": [
    "import requests\n",
    "from bs4 import BeautifulSoup\n",
    "\n",
    "# Define the URL to scrape\n",
    "url = 'https://brainlox.com/courses/category/technical'\n",
    "\n",
    "# Send an HTTP GET request to the URL\n",
    "response = requests.get(url)\n",
    "\n",
    "# Check if the request was successful\n",
    "if response.status_code == 200:\n",
    "    # Parse the HTML content of the page\n",
    "    soup = BeautifulSoup(response.text, 'html.parser')\n",
    "    \n",
    "    # Initialize lists to store course information\n",
    "    course_titles = []\n",
    "    course_descriptions = []\n",
    "    course_urls = []\n",
    "\n",
    "    # Extract course information using BeautifulSoup\n",
    "    course_elements = soup.find_all('div', class_='course-details')  # Adjust the class based on the HTML structure\n",
    "\n",
    "    for course in course_elements:\n",
    "        # Extract course title\n",
    "        title = course.find('h2', class_='course-title').text.strip()\n",
    "        course_titles.append(title)\n",
    "\n",
    "        # Extract course description\n",
    "        description = course.find('p', class_='course-description').text.strip()\n",
    "        course_descriptions.append(description)\n",
    "\n",
    "        # Extract course URL\n",
    "        url = course.find('a', class_='course-link')['href']\n",
    "        course_urls.append(url)\n",
    "\n",
    "else:\n",
    "    print(f\"Failed to retrieve the webpage. Status code: {response.status_code}\")"
   ]
  },
  {
   "cell_type": "code",
   "execution_count": 3,
   "id": "e3cbd17f-14a3-49ad-8aff-7fc88dbecf1c",
   "metadata": {},
   "outputs": [],
   "source": [
    "# Data Preprocessing: Cleaning and Structuring\n",
    "# Example of basic data cleaning and structuring\n",
    "import re\n",
    "\n",
    "# Remove HTML tags from descriptions (you can use BeautifulSoup for this)\n",
    "clean_descriptions = [re.sub('<.*?>', '', desc) for desc in course_descriptions]\n",
    "\n",
    "# Remove special characters and extra whitespace\n",
    "clean_descriptions = [re.sub(r'[^a-zA-Z0-9\\s]', '', desc) for desc in clean_descriptions]\n",
    "clean_descriptions = [' '.join(desc.split()) for desc in clean_descriptions]\n",
    "\n",
    "# Print cleaned descriptions\n",
    "for i in range(len(clean_descriptions)):\n",
    "    print(f\"Cleaned Description {i+1}: {clean_descriptions[i]}\")\n"
   ]
  },
  {
   "cell_type": "code",
   "execution_count": 4,
   "id": "74396727-a85c-4b09-ac50-f681a76a2061",
   "metadata": {},
   "outputs": [
    {
     "name": "stdout",
     "output_type": "stream",
     "text": [
      "Requirement already satisfied: transformers in c:\\users\\91931\\venv\\lib\\site-packages (4.33.2)\n",
      "Requirement already satisfied: filelock in c:\\users\\91931\\venv\\lib\\site-packages (from transformers) (3.12.4)\n",
      "Requirement already satisfied: huggingface-hub<1.0,>=0.15.1 in c:\\users\\91931\\venv\\lib\\site-packages (from transformers) (0.17.2)\n",
      "Requirement already satisfied: numpy>=1.17 in c:\\users\\91931\\venv\\lib\\site-packages (from transformers) (1.26.0)\n",
      "Requirement already satisfied: packaging>=20.0 in c:\\users\\91931\\venv\\lib\\site-packages (from transformers) (23.1)\n",
      "Requirement already satisfied: pyyaml>=5.1 in c:\\users\\91931\\venv\\lib\\site-packages (from transformers) (6.0.1)\n",
      "Requirement already satisfied: regex!=2019.12.17 in c:\\users\\91931\\venv\\lib\\site-packages (from transformers) (2023.8.8)\n",
      "Requirement already satisfied: requests in c:\\users\\91931\\venv\\lib\\site-packages (from transformers) (2.31.0)\n",
      "Requirement already satisfied: tokenizers!=0.11.3,<0.14,>=0.11.1 in c:\\users\\91931\\venv\\lib\\site-packages (from transformers) (0.13.3)\n",
      "Requirement already satisfied: safetensors>=0.3.1 in c:\\users\\91931\\venv\\lib\\site-packages (from transformers) (0.3.3)\n",
      "Requirement already satisfied: tqdm>=4.27 in c:\\users\\91931\\venv\\lib\\site-packages (from transformers) (4.66.1)\n",
      "Requirement already satisfied: fsspec in c:\\users\\91931\\venv\\lib\\site-packages (from huggingface-hub<1.0,>=0.15.1->transformers) (2023.9.2)\n",
      "Requirement already satisfied: typing-extensions>=3.7.4.3 in c:\\users\\91931\\venv\\lib\\site-packages (from huggingface-hub<1.0,>=0.15.1->transformers) (4.8.0)\n",
      "Requirement already satisfied: colorama in c:\\users\\91931\\venv\\lib\\site-packages (from tqdm>=4.27->transformers) (0.4.6)\n",
      "Requirement already satisfied: charset-normalizer<4,>=2 in c:\\users\\91931\\venv\\lib\\site-packages (from requests->transformers) (3.2.0)\n",
      "Requirement already satisfied: idna<4,>=2.5 in c:\\users\\91931\\venv\\lib\\site-packages (from requests->transformers) (3.4)\n",
      "Requirement already satisfied: urllib3<3,>=1.21.1 in c:\\users\\91931\\venv\\lib\\site-packages (from requests->transformers) (2.0.5)\n",
      "Requirement already satisfied: certifi>=2017.4.17 in c:\\users\\91931\\venv\\lib\\site-packages (from requests->transformers) (2023.7.22)\n",
      "Note: you may need to restart the kernel to use updated packages.\n"
     ]
    }
   ],
   "source": [
    "pip install transformers"
   ]
  },
  {
   "cell_type": "code",
   "execution_count": 5,
   "id": "14e623ee-2a7d-4067-b966-37ab3817d9ce",
   "metadata": {},
   "outputs": [
    {
     "data": {
      "text/plain": [
       "'3.11.4 (tags/v3.11.4:d2340ef, Jun  7 2023, 05:45:37) [MSC v.1934 64 bit (AMD64)]'"
      ]
     },
     "execution_count": 5,
     "metadata": {},
     "output_type": "execute_result"
    }
   ],
   "source": [
    "import sys\n",
    "sys.version"
   ]
  },
  {
   "cell_type": "code",
   "execution_count": 6,
   "id": "41c9901c-b524-48d6-8b04-d8d167a7841e",
   "metadata": {},
   "outputs": [
    {
     "name": "stdout",
     "output_type": "stream",
     "text": [
      "Python 3.11.4\n"
     ]
    }
   ],
   "source": [
    "!python --version"
   ]
  },
  {
   "cell_type": "code",
   "execution_count": 7,
   "id": "23d8835b-4794-48b1-8d4b-8c710af2c1dc",
   "metadata": {},
   "outputs": [
    {
     "name": "stdout",
     "output_type": "stream",
     "text": [
      "Looking in links: https://download.pytorch.org/whl/cpu/torch_stable.html\n",
      "Requirement already satisfied: torch in c:\\users\\91931\\venv\\lib\\site-packages (2.0.1+cpu)\n",
      "Requirement already satisfied: torchvision in c:\\users\\91931\\venv\\lib\\site-packages (0.15.2+cpu)\n",
      "Requirement already satisfied: filelock in c:\\users\\91931\\venv\\lib\\site-packages (from torch) (3.12.4)\n",
      "Requirement already satisfied: typing-extensions in c:\\users\\91931\\venv\\lib\\site-packages (from torch) (4.8.0)\n",
      "Requirement already satisfied: sympy in c:\\users\\91931\\venv\\lib\\site-packages (from torch) (1.12)\n",
      "Requirement already satisfied: networkx in c:\\users\\91931\\venv\\lib\\site-packages (from torch) (3.1)\n",
      "Requirement already satisfied: jinja2 in c:\\users\\91931\\venv\\lib\\site-packages (from torch) (3.1.2)\n",
      "Requirement already satisfied: numpy in c:\\users\\91931\\venv\\lib\\site-packages (from torchvision) (1.26.0)\n",
      "Requirement already satisfied: requests in c:\\users\\91931\\venv\\lib\\site-packages (from torchvision) (2.31.0)\n",
      "Requirement already satisfied: pillow!=8.3.*,>=5.3.0 in c:\\users\\91931\\venv\\lib\\site-packages (from torchvision) (10.0.1)\n",
      "Requirement already satisfied: MarkupSafe>=2.0 in c:\\users\\91931\\venv\\lib\\site-packages (from jinja2->torch) (2.1.3)\n",
      "Requirement already satisfied: charset-normalizer<4,>=2 in c:\\users\\91931\\venv\\lib\\site-packages (from requests->torchvision) (3.2.0)\n",
      "Requirement already satisfied: idna<4,>=2.5 in c:\\users\\91931\\venv\\lib\\site-packages (from requests->torchvision) (3.4)\n",
      "Requirement already satisfied: urllib3<3,>=1.21.1 in c:\\users\\91931\\venv\\lib\\site-packages (from requests->torchvision) (2.0.5)\n",
      "Requirement already satisfied: certifi>=2017.4.17 in c:\\users\\91931\\venv\\lib\\site-packages (from requests->torchvision) (2023.7.22)\n",
      "Requirement already satisfied: mpmath>=0.19 in c:\\users\\91931\\venv\\lib\\site-packages (from sympy->torch) (1.3.0)\n"
     ]
    }
   ],
   "source": [
    "!pip install torch torchvision -f https://download.pytorch.org/whl/cpu/torch_stable.html"
   ]
  },
  {
   "cell_type": "code",
   "execution_count": 9,
   "id": "aad57473-3c50-434f-ab5c-99e20b3c50f3",
   "metadata": {},
   "outputs": [
    {
     "name": "stdout",
     "output_type": "stream",
     "text": [
      "2.0.1+cpu\n"
     ]
    }
   ],
   "source": [
    "import torch\n",
    "print(torch.__version__)"
   ]
  },
  {
   "cell_type": "code",
   "execution_count": 11,
   "id": "c6c8fcc5-1557-4c82-af1c-dec1660db0d8",
   "metadata": {
    "scrolled": true
   },
   "outputs": [
    {
     "name": "stderr",
     "output_type": "stream",
     "text": [
      "Some weights of BertForQuestionAnswering were not initialized from the model checkpoint at bert-base-uncased and are newly initialized: ['qa_outputs.bias', 'qa_outputs.weight']\n",
      "You should probably TRAIN this model on a down-stream task to be able to use it for predictions and inference.\n"
     ]
    }
   ],
   "source": [
    "from transformers import BertTokenizer, BertForQuestionAnswering\n",
    "\n",
    "# Load the pre-trained BERT model and tokenizer\n",
    "model_name = 'bert-base-uncased'\n",
    "tokenizer = BertTokenizer.from_pretrained(model_name)\n",
    "model = BertForQuestionAnswering.from_pretrained(model_name)"
   ]
  },
  {
   "cell_type": "code",
   "execution_count": 12,
   "id": "f322a34d-10b1-4a92-8461-15e675443cb1",
   "metadata": {},
   "outputs": [
    {
     "name": "stdout",
     "output_type": "stream",
     "text": [
      "tensor([[ 101, 2054, 2024, 2070, 4087, 5352, 2055, 4730, 1029,  102]])\n"
     ]
    }
   ],
   "source": [
    "# Define the user query\n",
    "user_query = \"What are some technical courses about programming?\"\n",
    "\n",
    "# Use the tokenizer to encode the user query\n",
    "input_ids = tokenizer.encode(user_query, add_special_tokens=True, return_tensors='pt')\n",
    "\n",
    "# Print the input_ids\n",
    "print(input_ids)"
   ]
  },
  {
   "cell_type": "code",
   "execution_count": 14,
   "id": "02439b4b-759c-429e-ab28-7e6d884a1aa7",
   "metadata": {},
   "outputs": [],
   "source": [
    "with torch.no_grad():\n",
    "    start_scores, end_scores = model(input_ids)"
   ]
  },
  {
   "cell_type": "code",
   "execution_count": 20,
   "id": "69d9e90b-a959-4a7c-925e-d65bb1dfce5c",
   "metadata": {},
   "outputs": [
    {
     "name": "stdout",
     "output_type": "stream",
     "text": [
      "Note: you may need to restart the kernel to use updated packages.\n"
     ]
    },
    {
     "name": "stderr",
     "output_type": "stream",
     "text": [
      "\n",
      "Usage:   \n",
      "  C:\\Users\\91931\\venv\\Scripts\\python.exe -m pip install [options] <requirement specifier> [package-index-options] ...\n",
      "  C:\\Users\\91931\\venv\\Scripts\\python.exe -m pip install [options] -r <requirements file> [package-index-options] ...\n",
      "  C:\\Users\\91931\\venv\\Scripts\\python.exe -m pip install [options] [-e] <vcs project url> ...\n",
      "  C:\\Users\\91931\\venv\\Scripts\\python.exe -m pip install [options] [-e] <local project path> ...\n",
      "  C:\\Users\\91931\\venv\\Scripts\\python.exe -m pip install [options] <archive url/path> ...\n",
      "\n",
      "no such option: -n\n"
     ]
    }
   ],
   "source": [
    "%pip install -n myenv python=3.7"
   ]
  },
  {
   "cell_type": "code",
   "execution_count": 16,
   "id": "f5efd381-6ede-4f27-b45f-b8d5ab36aa41",
   "metadata": {},
   "outputs": [
    {
     "ename": "AssertionError",
     "evalue": "Torch not compiled with CUDA enabled",
     "output_type": "error",
     "traceback": [
      "\u001b[1;31m---------------------------------------------------------------------------\u001b[0m",
      "\u001b[1;31mAssertionError\u001b[0m                            Traceback (most recent call last)",
      "Cell \u001b[1;32mIn[16], line 2\u001b[0m\n\u001b[0;32m      1\u001b[0m \u001b[38;5;66;03m# Ensure the inputs are PyTorch tensors\u001b[39;00m\n\u001b[1;32m----> 2\u001b[0m input_ids \u001b[38;5;241m=\u001b[39m \u001b[43minput_ids\u001b[49m\u001b[38;5;241;43m.\u001b[39;49m\u001b[43mto\u001b[49m\u001b[43m(\u001b[49m\u001b[38;5;124;43m'\u001b[39;49m\u001b[38;5;124;43mcuda\u001b[39;49m\u001b[38;5;124;43m'\u001b[39;49m\u001b[43m)\u001b[49m  \u001b[38;5;66;03m# If using a GPU, otherwise use 'cpu'\u001b[39;00m\n\u001b[0;32m      3\u001b[0m start_scores \u001b[38;5;241m=\u001b[39m start_scores\u001b[38;5;241m.\u001b[39mto(\u001b[38;5;124m'\u001b[39m\u001b[38;5;124mcpu\u001b[39m\u001b[38;5;124m'\u001b[39m)\n\u001b[0;32m      4\u001b[0m end_scores \u001b[38;5;241m=\u001b[39m end_scores\u001b[38;5;241m.\u001b[39mto(\u001b[38;5;124m'\u001b[39m\u001b[38;5;124mcpu\u001b[39m\u001b[38;5;124m'\u001b[39m)\n",
      "File \u001b[1;32m~\\venv\\Lib\\site-packages\\torch\\cuda\\__init__.py:239\u001b[0m, in \u001b[0;36m_lazy_init\u001b[1;34m()\u001b[0m\n\u001b[0;32m    235\u001b[0m     \u001b[38;5;28;01mraise\u001b[39;00m \u001b[38;5;167;01mRuntimeError\u001b[39;00m(\n\u001b[0;32m    236\u001b[0m         \u001b[38;5;124m\"\u001b[39m\u001b[38;5;124mCannot re-initialize CUDA in forked subprocess. To use CUDA with \u001b[39m\u001b[38;5;124m\"\u001b[39m\n\u001b[0;32m    237\u001b[0m         \u001b[38;5;124m\"\u001b[39m\u001b[38;5;124mmultiprocessing, you must use the \u001b[39m\u001b[38;5;124m'\u001b[39m\u001b[38;5;124mspawn\u001b[39m\u001b[38;5;124m'\u001b[39m\u001b[38;5;124m start method\u001b[39m\u001b[38;5;124m\"\u001b[39m)\n\u001b[0;32m    238\u001b[0m \u001b[38;5;28;01mif\u001b[39;00m \u001b[38;5;129;01mnot\u001b[39;00m \u001b[38;5;28mhasattr\u001b[39m(torch\u001b[38;5;241m.\u001b[39m_C, \u001b[38;5;124m'\u001b[39m\u001b[38;5;124m_cuda_getDeviceCount\u001b[39m\u001b[38;5;124m'\u001b[39m):\n\u001b[1;32m--> 239\u001b[0m     \u001b[38;5;28;01mraise\u001b[39;00m \u001b[38;5;167;01mAssertionError\u001b[39;00m(\u001b[38;5;124m\"\u001b[39m\u001b[38;5;124mTorch not compiled with CUDA enabled\u001b[39m\u001b[38;5;124m\"\u001b[39m)\n\u001b[0;32m    240\u001b[0m \u001b[38;5;28;01mif\u001b[39;00m _cudart \u001b[38;5;129;01mis\u001b[39;00m \u001b[38;5;28;01mNone\u001b[39;00m:\n\u001b[0;32m    241\u001b[0m     \u001b[38;5;28;01mraise\u001b[39;00m \u001b[38;5;167;01mAssertionError\u001b[39;00m(\n\u001b[0;32m    242\u001b[0m         \u001b[38;5;124m\"\u001b[39m\u001b[38;5;124mlibcudart functions unavailable. It looks like you have a broken build?\u001b[39m\u001b[38;5;124m\"\u001b[39m)\n",
      "\u001b[1;31mAssertionError\u001b[0m: Torch not compiled with CUDA enabled"
     ]
    }
   ],
   "source": [
    "# Ensure the inputs are PyTorch tensors\n",
    "input_ids = input_ids.to('cuda')  # If using a GPU, otherwise use 'cpu'\n",
    "start_scores = start_scores.to('cpu')\n",
    "end_scores = end_scores.to('cpu')\n",
    "\n",
    "# Find the answer span with the highest score\n",
    "answer_start = torch.argmax(start_scores)\n",
    "answer_end = torch.argmax(end_scores) + 1  # Include the end token\n",
    "\n",
    "# Get the text of the answer\n",
    "answer = tokenizer.decode(input_ids[0][answer_start:answer_end])\n",
    "\n",
    "# Print the chatbot's response\n",
    "print(\"Chatbot Response:\", answer)"
   ]
  },
  {
   "cell_type": "code",
   "execution_count": null,
   "id": "fc8db901-e112-4c03-b99a-f6e35f7dc9a0",
   "metadata": {},
   "outputs": [],
   "source": [
    "# Import the required libraries\n",
    "from transformers import BertTokenizer, BertForQuestionAnswering\n",
    "import torch\n",
    "\n",
    "# Load the pre-trained BERT model and tokenizer\n",
    "model_name = 'bert-base-uncased'\n",
    "tokenizer = BertTokenizer.from_pretrained(model_name)\n",
    "model = BertForQuestionAnswering.from_pretrained(model_name)\n",
    "\n",
    "# User input\n",
    "user_query = \"What are some technical courses about programming?\"\n",
    "\n",
    "# Tokenize the user query\n",
    "input_ids = tokenizer.encode(user_query, add_special_tokens=True, return_tensors='pt')\n",
    "\n",
    "# Get the model's response\n",
    "with torch.no_grad():\n",
    "    start_scores, end_scores = model(input_ids)\n",
    "\n",
    "# Find the answer span with the highest score\n",
    "answer_start = torch.argmax(start_scores)\n",
    "answer_end = torch.argmax(end_scores)\n",
    "\n",
    "# Get the text of the answer\n",
    "answer = tokenizer.decode(input_ids[0][answer_start.item():answer_end.item()+1])\n",
    "\n",
    "# Print the chatbot's response\n",
    "print(\"Chatbot Response:\", answer)\n"
   ]
  },
  {
   "cell_type": "code",
   "execution_count": null,
   "id": "35950856-b0ad-4c4f-a722-95c4dfdd6f71",
   "metadata": {},
   "outputs": [],
   "source": [
    "# Import the required libraries\n",
    "from transformers import BertTokenizer, BertForQuestionAnswering\n",
    "import torch\n",
    "\n",
    "# Load the pre-trained BERT model and tokenizer\n",
    "model_name = 'bert-base-uncased'\n",
    "tokenizer = BertTokenizer.from_pretrained(model_name)\n",
    "model = BertForQuestionAnswering.from_pretrained(model_name)\n",
    "\n",
    "# User input\n",
    "user_query = \"What are some technical courses about programming?\"\n",
    "\n",
    "# Tokenize the user query\n",
    "input_ids = tokenizer.encode(user_query, add_special_tokens=True, return_tensors='pt')\n",
    "\n",
    "# Get the model's response\n",
    "with torch.no_grad():\n",
    "    start_scores, end_scores = model(input_ids)\n",
    "\n",
    "# Find the answer span with the highest score\n",
    "answer_start = torch.argmax(start_scores)\n",
    "answer_end = torch.argmax(end_scores)\n",
    "\n",
    "# Get the text of the answer\n",
    "answer = tokenizer.decode(input_ids[0][answer_start.item():answer_end.item()+1])\n",
    "\n",
    "# Print the chatbot's response\n",
    "print(\"Chatbot Response:\", answer)"
   ]
  },
  {
   "cell_type": "code",
   "execution_count": null,
   "id": "c207ac3f-2a02-4332-9b8b-545fa8a93439",
   "metadata": {},
   "outputs": [],
   "source": []
  },
  {
   "cell_type": "code",
   "execution_count": null,
   "id": "4f35c7e1-b330-4fd2-a23d-11df7e92cad3",
   "metadata": {},
   "outputs": [],
   "source": []
  },
  {
   "cell_type": "code",
   "execution_count": null,
   "id": "94c0ca17-ab81-4faa-a002-0f1eb2a587d8",
   "metadata": {},
   "outputs": [],
   "source": []
  }
 ],
 "metadata": {
  "kernelspec": {
   "display_name": "Python 3 (ipykernel)",
   "language": "python",
   "name": "python3"
  },
  "language_info": {
   "codemirror_mode": {
    "name": "ipython",
    "version": 3
   },
   "file_extension": ".py",
   "mimetype": "text/x-python",
   "name": "python",
   "nbconvert_exporter": "python",
   "pygments_lexer": "ipython3",
   "version": "3.11.4"
  }
 },
 "nbformat": 4,
 "nbformat_minor": 5
}
